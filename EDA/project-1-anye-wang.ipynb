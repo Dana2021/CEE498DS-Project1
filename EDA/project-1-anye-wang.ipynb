{
 "cells": [
  {
   "cell_type": "code",
   "execution_count": 1,
   "metadata": {
    "_cell_guid": "b1076dfc-b9ad-4769-8c92-a6c4dae69d19",
    "_uuid": "8f2839f25d086af736a60e9eeb907d3b93b6e0e5",
    "execution": {
     "iopub.execute_input": "2020-10-22T10:16:35.184795Z",
     "iopub.status.busy": "2020-10-22T10:16:35.183870Z",
     "iopub.status.idle": "2020-10-22T10:16:35.189858Z",
     "shell.execute_reply": "2020-10-22T10:16:35.189106Z"
    },
    "papermill": {
     "duration": 0.037949,
     "end_time": "2020-10-22T10:16:35.190006",
     "exception": false,
     "start_time": "2020-10-22T10:16:35.152057",
     "status": "completed"
    },
    "tags": []
   },
   "outputs": [
    {
     "name": "stdout",
     "output_type": "stream",
     "text": [
      "/kaggle/input/cee-498-project1-london-bike-sharing/train.csv\n",
      "/kaggle/input/cee-498-project1-london-bike-sharing/sample.csv\n",
      "/kaggle/input/cee-498-project1-london-bike-sharing/test.csv\n"
     ]
    }
   ],
   "source": [
    "# This Python 3 environment comes with many helpful analytics libraries installed\n",
    "# It is defined by the kaggle/python Docker image: https://github.com/kaggle/docker-python\n",
    "# For example, here's several helpful packages to load\n",
    "\n",
    "import numpy as np # linear algebra\n",
    "import pandas as pd # data processing, CSV file I/O (e.g. pd.read_csv)\n",
    "\n",
    "# Input data files are available in the read-only \"../input/\" directory\n",
    "# For example, running this (by clicking run or pressing Shift+Enter) will list all files under the input directory\n",
    "\n",
    "import os\n",
    "for dirname, _, filenames in os.walk('/kaggle/input'):\n",
    "    for filename in filenames:\n",
    "        print(os.path.join(dirname, filename))\n",
    "\n",
    "# You can write up to 5GB to the current directory (/kaggle/working/) that gets preserved as output when you create a version using \"Save & Run All\" \n",
    "# You can also write temporary files to /kaggle/temp/, but they won't be saved outside of the current session"
   ]
  },
  {
   "cell_type": "markdown",
   "metadata": {
    "papermill": {
     "duration": 0.025777,
     "end_time": "2020-10-22T10:16:35.240582",
     "exception": false,
     "start_time": "2020-10-22T10:16:35.214805",
     "status": "completed"
    },
    "tags": []
   },
   "source": [
    "# **London Bike Sharing Exploratory Data Analysis**\n",
    "The goal of this project is to predict the ranges of cnt each hour based on the given factors."
   ]
  },
  {
   "cell_type": "markdown",
   "metadata": {
    "papermill": {
     "duration": 0.023189,
     "end_time": "2020-10-22T10:16:35.287390",
     "exception": false,
     "start_time": "2020-10-22T10:16:35.264201",
     "status": "completed"
    },
    "tags": []
   },
   "source": [
    "# 1. Load and Inspect Data\n",
    "\n",
    "At the beginning, a question which factors have the most coorelation with the number of shared bike demand come up with me before starting the comprehensive exploratory data analsis. First of all, load the data and inspect some basic information about data."
   ]
  },
  {
   "cell_type": "code",
   "execution_count": 2,
   "metadata": {
    "_cell_guid": "79c7e3d0-c299-4dcb-8224-4455121ee9b0",
    "_uuid": "d629ff2d2480ee46fbb7e2d37f6b5fab8052498a",
    "execution": {
     "iopub.execute_input": "2020-10-22T10:16:35.342843Z",
     "iopub.status.busy": "2020-10-22T10:16:35.342015Z",
     "iopub.status.idle": "2020-10-22T10:16:36.370158Z",
     "shell.execute_reply": "2020-10-22T10:16:36.369324Z"
    },
    "papermill": {
     "duration": 1.058907,
     "end_time": "2020-10-22T10:16:36.370311",
     "exception": false,
     "start_time": "2020-10-22T10:16:35.311404",
     "status": "completed"
    },
    "tags": []
   },
   "outputs": [],
   "source": [
    "import numpy as np\n",
    "import seaborn as sns\n",
    "import pandas as pd\n",
    "import matplotlib.pyplot as plt\n",
    "%matplotlib inline\n",
    "import datetime"
   ]
  },
  {
   "cell_type": "code",
   "execution_count": 3,
   "metadata": {
    "execution": {
     "iopub.execute_input": "2020-10-22T10:16:36.424620Z",
     "iopub.status.busy": "2020-10-22T10:16:36.423461Z",
     "iopub.status.idle": "2020-10-22T10:16:36.462006Z",
     "shell.execute_reply": "2020-10-22T10:16:36.461221Z"
    },
    "papermill": {
     "duration": 0.067987,
     "end_time": "2020-10-22T10:16:36.462130",
     "exception": false,
     "start_time": "2020-10-22T10:16:36.394143",
     "status": "completed"
    },
    "tags": []
   },
   "outputs": [],
   "source": [
    "df = pd.read_csv(\"../input/cee-498-project1-london-bike-sharing/train.csv\")"
   ]
  },
  {
   "cell_type": "code",
   "execution_count": 4,
   "metadata": {
    "execution": {
     "iopub.execute_input": "2020-10-22T10:16:36.532320Z",
     "iopub.status.busy": "2020-10-22T10:16:36.522594Z",
     "iopub.status.idle": "2020-10-22T10:16:36.547515Z",
     "shell.execute_reply": "2020-10-22T10:16:36.546741Z"
    },
    "papermill": {
     "duration": 0.061508,
     "end_time": "2020-10-22T10:16:36.547653",
     "exception": false,
     "start_time": "2020-10-22T10:16:36.486145",
     "status": "completed"
    },
    "tags": []
   },
   "outputs": [
    {
     "data": {
      "text/html": [
       "<div>\n",
       "<style scoped>\n",
       "    .dataframe tbody tr th:only-of-type {\n",
       "        vertical-align: middle;\n",
       "    }\n",
       "\n",
       "    .dataframe tbody tr th {\n",
       "        vertical-align: top;\n",
       "    }\n",
       "\n",
       "    .dataframe thead th {\n",
       "        text-align: right;\n",
       "    }\n",
       "</style>\n",
       "<table border=\"1\" class=\"dataframe\">\n",
       "  <thead>\n",
       "    <tr style=\"text-align: right;\">\n",
       "      <th></th>\n",
       "      <th>timestamp</th>\n",
       "      <th>cnt</th>\n",
       "      <th>t1</th>\n",
       "      <th>t2</th>\n",
       "      <th>hum</th>\n",
       "      <th>wind_speed</th>\n",
       "      <th>weather_code</th>\n",
       "      <th>is_holiday</th>\n",
       "      <th>is_weekend</th>\n",
       "      <th>season</th>\n",
       "    </tr>\n",
       "  </thead>\n",
       "  <tbody>\n",
       "    <tr>\n",
       "      <th>0</th>\n",
       "      <td>2015-01-04 02:00:00</td>\n",
       "      <td>134</td>\n",
       "      <td>2.5</td>\n",
       "      <td>2.5</td>\n",
       "      <td>96.5</td>\n",
       "      <td>0.0</td>\n",
       "      <td>1.0</td>\n",
       "      <td>0.0</td>\n",
       "      <td>1.0</td>\n",
       "      <td>3.0</td>\n",
       "    </tr>\n",
       "    <tr>\n",
       "      <th>1</th>\n",
       "      <td>2015-01-04 07:00:00</td>\n",
       "      <td>75</td>\n",
       "      <td>1.0</td>\n",
       "      <td>-1.0</td>\n",
       "      <td>100.0</td>\n",
       "      <td>7.0</td>\n",
       "      <td>4.0</td>\n",
       "      <td>0.0</td>\n",
       "      <td>1.0</td>\n",
       "      <td>3.0</td>\n",
       "    </tr>\n",
       "    <tr>\n",
       "      <th>2</th>\n",
       "      <td>2015-01-04 08:00:00</td>\n",
       "      <td>131</td>\n",
       "      <td>1.5</td>\n",
       "      <td>-1.0</td>\n",
       "      <td>96.5</td>\n",
       "      <td>8.0</td>\n",
       "      <td>4.0</td>\n",
       "      <td>0.0</td>\n",
       "      <td>1.0</td>\n",
       "      <td>3.0</td>\n",
       "    </tr>\n",
       "    <tr>\n",
       "      <th>3</th>\n",
       "      <td>2015-01-04 09:00:00</td>\n",
       "      <td>301</td>\n",
       "      <td>2.0</td>\n",
       "      <td>-0.5</td>\n",
       "      <td>100.0</td>\n",
       "      <td>9.0</td>\n",
       "      <td>3.0</td>\n",
       "      <td>0.0</td>\n",
       "      <td>1.0</td>\n",
       "      <td>3.0</td>\n",
       "    </tr>\n",
       "    <tr>\n",
       "      <th>4</th>\n",
       "      <td>2015-01-04 10:00:00</td>\n",
       "      <td>528</td>\n",
       "      <td>3.0</td>\n",
       "      <td>-0.5</td>\n",
       "      <td>93.0</td>\n",
       "      <td>12.0</td>\n",
       "      <td>3.0</td>\n",
       "      <td>0.0</td>\n",
       "      <td>1.0</td>\n",
       "      <td>3.0</td>\n",
       "    </tr>\n",
       "  </tbody>\n",
       "</table>\n",
       "</div>"
      ],
      "text/plain": [
       "             timestamp  cnt   t1   t2    hum  wind_speed  weather_code  \\\n",
       "0  2015-01-04 02:00:00  134  2.5  2.5   96.5         0.0           1.0   \n",
       "1  2015-01-04 07:00:00   75  1.0 -1.0  100.0         7.0           4.0   \n",
       "2  2015-01-04 08:00:00  131  1.5 -1.0   96.5         8.0           4.0   \n",
       "3  2015-01-04 09:00:00  301  2.0 -0.5  100.0         9.0           3.0   \n",
       "4  2015-01-04 10:00:00  528  3.0 -0.5   93.0        12.0           3.0   \n",
       "\n",
       "   is_holiday  is_weekend  season  \n",
       "0         0.0         1.0     3.0  \n",
       "1         0.0         1.0     3.0  \n",
       "2         0.0         1.0     3.0  \n",
       "3         0.0         1.0     3.0  \n",
       "4         0.0         1.0     3.0  "
      ]
     },
     "execution_count": 4,
     "metadata": {},
     "output_type": "execute_result"
    }
   ],
   "source": [
    "df.head()"
   ]
  },
  {
   "cell_type": "code",
   "execution_count": 5,
   "metadata": {
    "execution": {
     "iopub.execute_input": "2020-10-22T10:16:36.605387Z",
     "iopub.status.busy": "2020-10-22T10:16:36.604414Z",
     "iopub.status.idle": "2020-10-22T10:16:36.609078Z",
     "shell.execute_reply": "2020-10-22T10:16:36.608505Z"
    },
    "papermill": {
     "duration": 0.036858,
     "end_time": "2020-10-22T10:16:36.609209",
     "exception": false,
     "start_time": "2020-10-22T10:16:36.572351",
     "status": "completed"
    },
    "tags": []
   },
   "outputs": [
    {
     "data": {
      "text/plain": [
       "timestamp        object\n",
       "cnt               int64\n",
       "t1              float64\n",
       "t2              float64\n",
       "hum             float64\n",
       "wind_speed      float64\n",
       "weather_code    float64\n",
       "is_holiday      float64\n",
       "is_weekend      float64\n",
       "season          float64\n",
       "dtype: object"
      ]
     },
     "execution_count": 5,
     "metadata": {},
     "output_type": "execute_result"
    }
   ],
   "source": [
    "df.dtypes"
   ]
  },
  {
   "cell_type": "code",
   "execution_count": 6,
   "metadata": {
    "execution": {
     "iopub.execute_input": "2020-10-22T10:16:36.668445Z",
     "iopub.status.busy": "2020-10-22T10:16:36.667360Z",
     "iopub.status.idle": "2020-10-22T10:16:36.680258Z",
     "shell.execute_reply": "2020-10-22T10:16:36.679541Z"
    },
    "papermill": {
     "duration": 0.045865,
     "end_time": "2020-10-22T10:16:36.680400",
     "exception": false,
     "start_time": "2020-10-22T10:16:36.634535",
     "status": "completed"
    },
    "tags": []
   },
   "outputs": [
    {
     "name": "stdout",
     "output_type": "stream",
     "text": [
      "<class 'pandas.core.frame.DataFrame'>\n",
      "RangeIndex: 12223 entries, 0 to 12222\n",
      "Data columns (total 10 columns):\n",
      " #   Column        Non-Null Count  Dtype  \n",
      "---  ------        --------------  -----  \n",
      " 0   timestamp     12223 non-null  object \n",
      " 1   cnt           12223 non-null  int64  \n",
      " 2   t1            12223 non-null  float64\n",
      " 3   t2            12223 non-null  float64\n",
      " 4   hum           12223 non-null  float64\n",
      " 5   wind_speed    12223 non-null  float64\n",
      " 6   weather_code  12223 non-null  float64\n",
      " 7   is_holiday    12223 non-null  float64\n",
      " 8   is_weekend    12223 non-null  float64\n",
      " 9   season        12223 non-null  float64\n",
      "dtypes: float64(8), int64(1), object(1)\n",
      "memory usage: 955.0+ KB\n"
     ]
    }
   ],
   "source": [
    "df.info()"
   ]
  },
  {
   "cell_type": "markdown",
   "metadata": {
    "papermill": {
     "duration": 0.025462,
     "end_time": "2020-10-22T10:16:36.731552",
     "exception": false,
     "start_time": "2020-10-22T10:16:36.706090",
     "status": "completed"
    },
    "tags": []
   },
   "source": [
    "As a result, the datasets has 10 columns and 17417 rows totally. Regarding to the types of columns, there is one timestamp object, four floats, and five integer. In addition, it shows that thera are no null existing in the data, which means no columns or rows need to be removed.  "
   ]
  },
  {
   "cell_type": "markdown",
   "metadata": {
    "papermill": {
     "duration": 0.025638,
     "end_time": "2020-10-22T10:16:36.782999",
     "exception": false,
     "start_time": "2020-10-22T10:16:36.757361",
     "status": "completed"
    },
    "tags": []
   },
   "source": [
    "# 2. Exploratory Data Analysis"
   ]
  },
  {
   "cell_type": "markdown",
   "metadata": {
    "papermill": {
     "duration": 0.02605,
     "end_time": "2020-10-22T10:16:36.835919",
     "exception": false,
     "start_time": "2020-10-22T10:16:36.809869",
     "status": "completed"
    },
    "tags": []
   },
   "source": [
    "MetaData:\n",
    "* \"timestamp\" - timestamp field for grouping the data\n",
    "* \"cnt\" - the count of a new bike shares\n",
    "* \"t1\" - real temperature in C\n",
    "* \"t2\" - temperature in C \"feels like\"\n",
    "* \"hum\" - humidity in percentage\n",
    "* \"wind_speed\" - wind speed in km/h\n",
    "* \"weather_code\" - category of the weather\n",
    "* \"is_holiday\" - boolean field - 1 holiday / 0 non holiday\n",
    "* \"is_weekend\" - boolean field - 1 if the day is weekend\n",
    "* \"season\" - category field meteorological seasons: 0-spring ; 1-summer; 2-fall; 3-winter.\n",
    "\n",
    "* \"weathe_code\" category description:\n",
    "* 1 = Clear ; mostly clear but have some values with haze/fog/patches of fog/ fog in vicinity\n",
    "* 2 = scattered clouds / few clouds\n",
    "* 3 = Broken clouds\n",
    "* 4 = Cloudy\n",
    "* 7 = Rain/ light Rain shower/ Light rain\n",
    "* 10 = rain with thunderstorm\n",
    "* 26 = snowfall\n",
    "* 94 = Freezing Fog"
   ]
  },
  {
   "cell_type": "markdown",
   "metadata": {
    "papermill": {
     "duration": 0.025817,
     "end_time": "2020-10-22T10:16:36.887744",
     "exception": false,
     "start_time": "2020-10-22T10:16:36.861927",
     "status": "completed"
    },
    "tags": []
   },
   "source": [
    "# Bike Numbers with Different Factors"
   ]
  },
  {
   "cell_type": "code",
   "execution_count": 7,
   "metadata": {
    "execution": {
     "iopub.execute_input": "2020-10-22T10:16:36.955417Z",
     "iopub.status.busy": "2020-10-22T10:16:36.953777Z",
     "iopub.status.idle": "2020-10-22T10:16:37.154267Z",
     "shell.execute_reply": "2020-10-22T10:16:37.153641Z"
    },
    "papermill": {
     "duration": 0.240715,
     "end_time": "2020-10-22T10:16:37.154443",
     "exception": false,
     "start_time": "2020-10-22T10:16:36.913728",
     "status": "completed"
    },
    "tags": []
   },
   "outputs": [
    {
     "data": {
      "image/png": "[encoded data removed]",
      "text/plain": [
       "<Figure size 432x288 with 1 Axes>"
      ]
     },
     "metadata": {
      "needs_background": "light"
     },
     "output_type": "display_data"
    }
   ],
   "source": [
    "#Season Consideration\n",
    "df_season = df\n",
    "df_season['season'] = df['season'].map({0:'spring', 1:'summer', 2:'autumn', 3:'winter'})\n",
    "df_season = df_season.groupby('season').mean()\n",
    "\n",
    "plt.figure()\n",
    "plt.bar(df_season.index, df_season['cnt'])\n",
    "plt.xlabel(\"Season\")\n",
    "plt.ylabel(\"cnt\")\n",
    "plt.suptitle (\"Bike Numbers in Different Seasons\")\n",
    "plt.xticks (rotation = 90)\n",
    "plt.show()"
   ]
  },
  {
   "cell_type": "markdown",
   "metadata": {
    "papermill": {
     "duration": 0.026618,
     "end_time": "2020-10-22T10:16:37.209237",
     "exception": false,
     "start_time": "2020-10-22T10:16:37.182619",
     "status": "completed"
    },
    "tags": []
   },
   "source": [
    "The number of shared bike is used the most in Summer and the least in Winter."
   ]
  },
  {
   "cell_type": "code",
   "execution_count": 8,
   "metadata": {
    "execution": {
     "iopub.execute_input": "2020-10-22T10:16:37.280479Z",
     "iopub.status.busy": "2020-10-22T10:16:37.279344Z",
     "iopub.status.idle": "2020-10-22T10:16:37.449508Z",
     "shell.execute_reply": "2020-10-22T10:16:37.448726Z"
    },
    "papermill": {
     "duration": 0.21353,
     "end_time": "2020-10-22T10:16:37.449646",
     "exception": false,
     "start_time": "2020-10-22T10:16:37.236116",
     "status": "completed"
    },
    "tags": []
   },
   "outputs": [
    {
     "data": {
      "image/png": "[encoded data removed]",
      "text/plain": [
       "<Figure size 432x288 with 1 Axes>"
      ]
     },
     "metadata": {
      "needs_background": "light"
     },
     "output_type": "display_data"
    }
   ],
   "source": [
    "#Weather Consideration\n",
    "df_weather = df\n",
    "df_weather['weather'] = df['weather_code'].map({1:'Clear', 2:'Few Clouds', 3:'Broken Clouds', 4:'Cloudy', 7:'Rain', 10:'Stormy', 26: 'Snow', 94:'Freezing Fog'})\n",
    "df_weather = df_weather.drop(['weather_code'], axis =1)\n",
    "\n",
    "df_weather = df_weather.groupby('weather').mean()\n",
    "\n",
    "plt.figure()\n",
    "plt.bar(df_weather.index, df_weather['cnt'])\n",
    "plt.xlabel(\"Weathers\")\n",
    "plt.ylabel(\"cnt\")\n",
    "plt.suptitle (\"Bike Numbers in Different Weathers\")\n",
    "plt.xticks (rotation = 90)\n",
    "plt.show()"
   ]
  },
  {
   "cell_type": "markdown",
   "metadata": {
    "papermill": {
     "duration": 0.028748,
     "end_time": "2020-10-22T10:16:37.506768",
     "exception": false,
     "start_time": "2020-10-22T10:16:37.478020",
     "status": "completed"
    },
    "tags": []
   },
   "source": [
    "The number of shared bike is used the most in Few Clouds weather and the least in Snow weather."
   ]
  },
  {
   "cell_type": "code",
   "execution_count": 9,
   "metadata": {
    "execution": {
     "iopub.execute_input": "2020-10-22T10:16:37.578105Z",
     "iopub.status.busy": "2020-10-22T10:16:37.575722Z",
     "iopub.status.idle": "2020-10-22T10:16:37.594156Z",
     "shell.execute_reply": "2020-10-22T10:16:37.593373Z"
    },
    "papermill": {
     "duration": 0.059365,
     "end_time": "2020-10-22T10:16:37.594303",
     "exception": false,
     "start_time": "2020-10-22T10:16:37.534938",
     "status": "completed"
    },
    "tags": []
   },
   "outputs": [],
   "source": [
    "#Time Consideration\n",
    "df_time = df\n",
    "df_time['timestamp'] = pd.to_datetime(df['timestamp'])\n",
    "\n",
    "df_time['hour'] = df['timestamp'].dt.hour\n",
    "df_time['month'] = df['timestamp'].dt.month\n",
    "df_time['day'] = df['timestamp'].dt.day\n",
    "df_time['weekday'] = df['timestamp'].dt.dayofweek\n",
    "\n",
    "df_time = df_time.set_index('timestamp')"
   ]
  },
  {
   "cell_type": "code",
   "execution_count": 10,
   "metadata": {
    "execution": {
     "iopub.execute_input": "2020-10-22T10:16:37.670079Z",
     "iopub.status.busy": "2020-10-22T10:16:37.658218Z",
     "iopub.status.idle": "2020-10-22T10:16:42.683703Z",
     "shell.execute_reply": "2020-10-22T10:16:42.683055Z"
    },
    "papermill": {
     "duration": 5.060639,
     "end_time": "2020-10-22T10:16:42.683828",
     "exception": false,
     "start_time": "2020-10-22T10:16:37.623189",
     "status": "completed"
    },
    "tags": []
   },
   "outputs": [
    {
     "data": {
      "image/png": "[encoded data removed]",
      "text/plain": [
       "<Figure size 432x288 with 1 Axes>"
      ]
     },
     "metadata": {
      "needs_background": "light"
     },
     "output_type": "display_data"
    }
   ],
   "source": [
    "#Each Day\n",
    "plt.figure()\n",
    "sns.lineplot (data = df_time, x = df_time.index, y = df_time.cnt)\n",
    "plt.suptitle (\"Bike Numbers with Date\")\n",
    "plt.xticks(rotation = 90)\n",
    "plt.show()"
   ]
  },
  {
   "cell_type": "markdown",
   "metadata": {
    "papermill": {
     "duration": 0.029278,
     "end_time": "2020-10-22T10:16:42.742817",
     "exception": false,
     "start_time": "2020-10-22T10:16:42.713539",
     "status": "completed"
    },
    "tags": []
   },
   "source": [
    "This is an overall view of all number shared bike in each recorded day."
   ]
  },
  {
   "cell_type": "code",
   "execution_count": 11,
   "metadata": {
    "execution": {
     "iopub.execute_input": "2020-10-22T10:16:42.811157Z",
     "iopub.status.busy": "2020-10-22T10:16:42.809957Z",
     "iopub.status.idle": "2020-10-22T10:16:43.002007Z",
     "shell.execute_reply": "2020-10-22T10:16:43.001225Z"
    },
    "papermill": {
     "duration": 0.229971,
     "end_time": "2020-10-22T10:16:43.002141",
     "exception": false,
     "start_time": "2020-10-22T10:16:42.772170",
     "status": "completed"
    },
    "tags": []
   },
   "outputs": [
    {
     "data": {
      "image/png": "[encoded data removed]",
      "text/plain": [
       "<Figure size 432x288 with 1 Axes>"
      ]
     },
     "metadata": {
      "needs_background": "light"
     },
     "output_type": "display_data"
    }
   ],
   "source": [
    "#By hour\n",
    "df_by_hour = df_time.groupby('hour').mean()\n",
    "\n",
    "plt.figure()\n",
    "sns.lineplot(data = df_by_hour, x = df_by_hour.index, y = df_by_hour.cnt)\n",
    "plt.xticks(rotation = 90)\n",
    "plt.show()"
   ]
  },
  {
   "cell_type": "markdown",
   "metadata": {
    "papermill": {
     "duration": 0.030541,
     "end_time": "2020-10-22T10:16:43.064049",
     "exception": false,
     "start_time": "2020-10-22T10:16:43.033508",
     "status": "completed"
    },
    "tags": []
   },
   "source": [
    "During a day, the shared bikes are used significantly at around 8 o'clock and 18 o'clock, which are commuter time."
   ]
  },
  {
   "cell_type": "code",
   "execution_count": 12,
   "metadata": {
    "execution": {
     "iopub.execute_input": "2020-10-22T10:16:43.136046Z",
     "iopub.status.busy": "2020-10-22T10:16:43.134957Z",
     "iopub.status.idle": "2020-10-22T10:16:43.327295Z",
     "shell.execute_reply": "2020-10-22T10:16:43.326655Z"
    },
    "papermill": {
     "duration": 0.232677,
     "end_time": "2020-10-22T10:16:43.327423",
     "exception": false,
     "start_time": "2020-10-22T10:16:43.094746",
     "status": "completed"
    },
    "tags": []
   },
   "outputs": [
    {
     "data": {
      "image/png": "[encoded data removed]",
      "text/plain": [
       "<Figure size 432x288 with 1 Axes>"
      ]
     },
     "metadata": {
      "needs_background": "light"
     },
     "output_type": "display_data"
    }
   ],
   "source": [
    "#By month\n",
    "df_by_month = df_time.groupby('month').sum()\n",
    "\n",
    "plt.figure()\n",
    "sns.lineplot(data = df_by_month, x = df_by_month.index, y = df_by_month.cnt)\n",
    "plt.xticks(rotation = 90)\n",
    "plt.show()"
   ]
  },
  {
   "cell_type": "markdown",
   "metadata": {
    "papermill": {
     "duration": 0.031327,
     "end_time": "2020-10-22T10:16:43.390859",
     "exception": false,
     "start_time": "2020-10-22T10:16:43.359532",
     "status": "completed"
    },
    "tags": []
   },
   "source": [
    "The shared bikes are used a lot on around July."
   ]
  },
  {
   "cell_type": "code",
   "execution_count": 13,
   "metadata": {
    "execution": {
     "iopub.execute_input": "2020-10-22T10:16:43.463315Z",
     "iopub.status.busy": "2020-10-22T10:16:43.462518Z",
     "iopub.status.idle": "2020-10-22T10:16:43.655089Z",
     "shell.execute_reply": "2020-10-22T10:16:43.654436Z"
    },
    "papermill": {
     "duration": 0.23257,
     "end_time": "2020-10-22T10:16:43.655236",
     "exception": false,
     "start_time": "2020-10-22T10:16:43.422666",
     "status": "completed"
    },
    "tags": []
   },
   "outputs": [
    {
     "data": {
      "image/png": "[encoded data removed]",
      "text/plain": [
       "<Figure size 432x288 with 1 Axes>"
      ]
     },
     "metadata": {
      "needs_background": "light"
     },
     "output_type": "display_data"
    }
   ],
   "source": [
    "#By day\n",
    "df_by_day = df_time.groupby('day').mean()\n",
    "\n",
    "plt.figure()\n",
    "sns.lineplot(data = df_by_day, x = df_by_day.index, y = df_by_day.cnt)\n",
    "plt.xticks(rotation = 90)\n",
    "plt.show()"
   ]
  },
  {
   "cell_type": "markdown",
   "metadata": {
    "papermill": {
     "duration": 0.033191,
     "end_time": "2020-10-22T10:16:43.721583",
     "exception": false,
     "start_time": "2020-10-22T10:16:43.688392",
     "status": "completed"
    },
    "tags": []
   },
   "source": [
    "During a month, people tend to use shared bike in the early month."
   ]
  },
  {
   "cell_type": "code",
   "execution_count": 14,
   "metadata": {
    "execution": {
     "iopub.execute_input": "2020-10-22T10:16:43.796965Z",
     "iopub.status.busy": "2020-10-22T10:16:43.796115Z",
     "iopub.status.idle": "2020-10-22T10:16:43.990476Z",
     "shell.execute_reply": "2020-10-22T10:16:43.989854Z"
    },
    "papermill": {
     "duration": 0.23596,
     "end_time": "2020-10-22T10:16:43.990615",
     "exception": false,
     "start_time": "2020-10-22T10:16:43.754655",
     "status": "completed"
    },
    "tags": []
   },
   "outputs": [
    {
     "data": {
      "image/png": "[encoded data removed]",
      "text/plain": [
       "<Figure size 432x288 with 1 Axes>"
      ]
     },
     "metadata": {
      "needs_background": "light"
     },
     "output_type": "display_data"
    }
   ],
   "source": [
    "#By week\n",
    "df_by_week = df_time.groupby('weekday').mean()\n",
    "\n",
    "plt.figure()\n",
    "sns.lineplot(data = df_by_week, x = df_by_week.index, y = df_by_week.cnt)\n",
    "plt.xticks(rotation = 90)\n",
    "plt.show()"
   ]
  },
  {
   "cell_type": "markdown",
   "metadata": {
    "papermill": {
     "duration": 0.033859,
     "end_time": "2020-10-22T10:16:44.060034",
     "exception": false,
     "start_time": "2020-10-22T10:16:44.026175",
     "status": "completed"
    },
    "tags": []
   },
   "source": [
    "During a week, people tend to use shared bike in the middle week."
   ]
  },
  {
   "cell_type": "code",
   "execution_count": 15,
   "metadata": {
    "execution": {
     "iopub.execute_input": "2020-10-22T10:16:44.144700Z",
     "iopub.status.busy": "2020-10-22T10:16:44.143895Z",
     "iopub.status.idle": "2020-10-22T10:16:44.279667Z",
     "shell.execute_reply": "2020-10-22T10:16:44.279022Z"
    },
    "papermill": {
     "duration": 0.185391,
     "end_time": "2020-10-22T10:16:44.279798",
     "exception": false,
     "start_time": "2020-10-22T10:16:44.094407",
     "status": "completed"
    },
    "tags": []
   },
   "outputs": [
    {
     "data": {
      "image/png": "[encoded data removed]",
      "text/plain": [
       "<Figure size 432x288 with 1 Axes>"
      ]
     },
     "metadata": {
      "needs_background": "light"
     },
     "output_type": "display_data"
    }
   ],
   "source": [
    "# Holiday and Nonholiday\n",
    "df_holiday = df\n",
    "df_holiday['holiday'] = df['is_holiday'].map({0:'non holiday', 1:'holiday'})\n",
    "df_holiday = df_holiday.groupby('holiday').mean()\n",
    "\n",
    "plt.figure()\n",
    "plt.bar(df_holiday.index, df_holiday['cnt'])\n",
    "plt.xlabel(\"Holiday\")\n",
    "plt.ylabel(\"cnt\")\n",
    "plt.suptitle (\"Bike Numbers in holiday and non holiday\")\n",
    "plt.xticks (rotation = 90)\n",
    "plt.show()"
   ]
  },
  {
   "cell_type": "code",
   "execution_count": 16,
   "metadata": {
    "execution": {
     "iopub.execute_input": "2020-10-22T10:16:44.368876Z",
     "iopub.status.busy": "2020-10-22T10:16:44.366013Z",
     "iopub.status.idle": "2020-10-22T10:16:44.497424Z",
     "shell.execute_reply": "2020-10-22T10:16:44.497969Z"
    },
    "papermill": {
     "duration": 0.182817,
     "end_time": "2020-10-22T10:16:44.498134",
     "exception": false,
     "start_time": "2020-10-22T10:16:44.315317",
     "status": "completed"
    },
    "tags": []
   },
   "outputs": [
    {
     "data": {
      "image/png": "[encoded data removed]",
      "text/plain": [
       "<Figure size 432x288 with 1 Axes>"
      ]
     },
     "metadata": {
      "needs_background": "light"
     },
     "output_type": "display_data"
    }
   ],
   "source": [
    "#Weekend and Nonweekend\n",
    "df_weekend = df\n",
    "df_weekend['weekend'] = df['is_weekend'].map({0:'non weekend', 1:'weekend'})\n",
    "df_weekend = df_weekend.groupby('weekend').sum()\n",
    "\n",
    "plt.figure()\n",
    "plt.bar(df_weekend.index, df_weekend['cnt'])\n",
    "plt.xlabel(\"Weekend\")\n",
    "plt.ylabel(\"cnt\")\n",
    "plt.suptitle (\"Bike Numbers in weekend and non weekend\")\n",
    "plt.xticks (rotation = 90)\n",
    "plt.show()"
   ]
  },
  {
   "cell_type": "markdown",
   "metadata": {
    "papermill": {
     "duration": 0.035807,
     "end_time": "2020-10-22T10:16:44.570186",
     "exception": false,
     "start_time": "2020-10-22T10:16:44.534379",
     "status": "completed"
    },
    "tags": []
   },
   "source": [
    "# Correlation Matrix"
   ]
  },
  {
   "cell_type": "code",
   "execution_count": 17,
   "metadata": {
    "execution": {
     "iopub.execute_input": "2020-10-22T10:16:44.648090Z",
     "iopub.status.busy": "2020-10-22T10:16:44.647330Z",
     "iopub.status.idle": "2020-10-22T10:16:44.676776Z",
     "shell.execute_reply": "2020-10-22T10:16:44.676118Z"
    },
    "papermill": {
     "duration": 0.070517,
     "end_time": "2020-10-22T10:16:44.676903",
     "exception": false,
     "start_time": "2020-10-22T10:16:44.606386",
     "status": "completed"
    },
    "tags": []
   },
   "outputs": [
    {
     "data": {
      "text/html": [
       "<div>\n",
       "<style scoped>\n",
       "    .dataframe tbody tr th:only-of-type {\n",
       "        vertical-align: middle;\n",
       "    }\n",
       "\n",
       "    .dataframe tbody tr th {\n",
       "        vertical-align: top;\n",
       "    }\n",
       "\n",
       "    .dataframe thead th {\n",
       "        text-align: right;\n",
       "    }\n",
       "</style>\n",
       "<table border=\"1\" class=\"dataframe\">\n",
       "  <thead>\n",
       "    <tr style=\"text-align: right;\">\n",
       "      <th></th>\n",
       "      <th>cnt</th>\n",
       "      <th>t1</th>\n",
       "      <th>t2</th>\n",
       "      <th>hum</th>\n",
       "      <th>wind_speed</th>\n",
       "      <th>weather_code</th>\n",
       "      <th>is_holiday</th>\n",
       "      <th>is_weekend</th>\n",
       "      <th>hour</th>\n",
       "      <th>month</th>\n",
       "      <th>day</th>\n",
       "      <th>weekday</th>\n",
       "    </tr>\n",
       "  </thead>\n",
       "  <tbody>\n",
       "    <tr>\n",
       "      <th>cnt</th>\n",
       "      <td>1.000000</td>\n",
       "      <td>0.384216</td>\n",
       "      <td>0.364773</td>\n",
       "      <td>-0.457498</td>\n",
       "      <td>0.115649</td>\n",
       "      <td>-0.163148</td>\n",
       "      <td>-0.047484</td>\n",
       "      <td>-0.095288</td>\n",
       "      <td>0.323702</td>\n",
       "      <td>0.068372</td>\n",
       "      <td>-0.023115</td>\n",
       "      <td>-0.060405</td>\n",
       "    </tr>\n",
       "    <tr>\n",
       "      <th>t1</th>\n",
       "      <td>0.384216</td>\n",
       "      <td>1.000000</td>\n",
       "      <td>0.988304</td>\n",
       "      <td>-0.439397</td>\n",
       "      <td>0.139719</td>\n",
       "      <td>-0.095786</td>\n",
       "      <td>-0.042734</td>\n",
       "      <td>0.000813</td>\n",
       "      <td>0.163153</td>\n",
       "      <td>0.335800</td>\n",
       "      <td>0.009845</td>\n",
       "      <td>0.005150</td>\n",
       "    </tr>\n",
       "    <tr>\n",
       "      <th>t2</th>\n",
       "      <td>0.364773</td>\n",
       "      <td>0.988304</td>\n",
       "      <td>1.000000</td>\n",
       "      <td>-0.394916</td>\n",
       "      <td>0.083620</td>\n",
       "      <td>-0.097374</td>\n",
       "      <td>-0.039432</td>\n",
       "      <td>-0.002232</td>\n",
       "      <td>0.148927</td>\n",
       "      <td>0.372430</td>\n",
       "      <td>0.012717</td>\n",
       "      <td>0.000994</td>\n",
       "    </tr>\n",
       "    <tr>\n",
       "      <th>hum</th>\n",
       "      <td>-0.457498</td>\n",
       "      <td>-0.439397</td>\n",
       "      <td>-0.394916</td>\n",
       "      <td>1.000000</td>\n",
       "      <td>-0.284379</td>\n",
       "      <td>0.337402</td>\n",
       "      <td>0.024447</td>\n",
       "      <td>0.031429</td>\n",
       "      <td>-0.294206</td>\n",
       "      <td>0.114620</td>\n",
       "      <td>-0.021074</td>\n",
       "      <td>0.013444</td>\n",
       "    </tr>\n",
       "    <tr>\n",
       "      <th>wind_speed</th>\n",
       "      <td>0.115649</td>\n",
       "      <td>0.139719</td>\n",
       "      <td>0.083620</td>\n",
       "      <td>-0.284379</td>\n",
       "      <td>1.000000</td>\n",
       "      <td>0.132470</td>\n",
       "      <td>-0.005586</td>\n",
       "      <td>0.007030</td>\n",
       "      <td>0.149300</td>\n",
       "      <td>-0.087449</td>\n",
       "      <td>0.007142</td>\n",
       "      <td>-0.002053</td>\n",
       "    </tr>\n",
       "    <tr>\n",
       "      <th>weather_code</th>\n",
       "      <td>-0.163148</td>\n",
       "      <td>-0.095786</td>\n",
       "      <td>-0.097374</td>\n",
       "      <td>0.337402</td>\n",
       "      <td>0.132470</td>\n",
       "      <td>1.000000</td>\n",
       "      <td>0.004731</td>\n",
       "      <td>0.041136</td>\n",
       "      <td>-0.037803</td>\n",
       "      <td>-0.025500</td>\n",
       "      <td>-0.004153</td>\n",
       "      <td>0.018555</td>\n",
       "    </tr>\n",
       "    <tr>\n",
       "      <th>is_holiday</th>\n",
       "      <td>-0.047484</td>\n",
       "      <td>-0.042734</td>\n",
       "      <td>-0.039432</td>\n",
       "      <td>0.024447</td>\n",
       "      <td>-0.005586</td>\n",
       "      <td>0.004731</td>\n",
       "      <td>1.000000</td>\n",
       "      <td>-0.091683</td>\n",
       "      <td>0.004978</td>\n",
       "      <td>-0.001434</td>\n",
       "      <td>0.043926</td>\n",
       "      <td>-0.144188</td>\n",
       "    </tr>\n",
       "    <tr>\n",
       "      <th>is_weekend</th>\n",
       "      <td>-0.095288</td>\n",
       "      <td>0.000813</td>\n",
       "      <td>-0.002232</td>\n",
       "      <td>0.031429</td>\n",
       "      <td>0.007030</td>\n",
       "      <td>0.041136</td>\n",
       "      <td>-0.091683</td>\n",
       "      <td>1.000000</td>\n",
       "      <td>-0.007397</td>\n",
       "      <td>-0.007778</td>\n",
       "      <td>0.013172</td>\n",
       "      <td>0.790101</td>\n",
       "    </tr>\n",
       "    <tr>\n",
       "      <th>hour</th>\n",
       "      <td>0.323702</td>\n",
       "      <td>0.163153</td>\n",
       "      <td>0.148927</td>\n",
       "      <td>-0.294206</td>\n",
       "      <td>0.149300</td>\n",
       "      <td>-0.037803</td>\n",
       "      <td>0.004978</td>\n",
       "      <td>-0.007397</td>\n",
       "      <td>1.000000</td>\n",
       "      <td>-0.004498</td>\n",
       "      <td>-0.006834</td>\n",
       "      <td>-0.001784</td>\n",
       "    </tr>\n",
       "    <tr>\n",
       "      <th>month</th>\n",
       "      <td>0.068372</td>\n",
       "      <td>0.335800</td>\n",
       "      <td>0.372430</td>\n",
       "      <td>0.114620</td>\n",
       "      <td>-0.087449</td>\n",
       "      <td>-0.025500</td>\n",
       "      <td>-0.001434</td>\n",
       "      <td>-0.007778</td>\n",
       "      <td>-0.004498</td>\n",
       "      <td>1.000000</td>\n",
       "      <td>0.015299</td>\n",
       "      <td>0.001266</td>\n",
       "    </tr>\n",
       "    <tr>\n",
       "      <th>day</th>\n",
       "      <td>-0.023115</td>\n",
       "      <td>0.009845</td>\n",
       "      <td>0.012717</td>\n",
       "      <td>-0.021074</td>\n",
       "      <td>0.007142</td>\n",
       "      <td>-0.004153</td>\n",
       "      <td>0.043926</td>\n",
       "      <td>0.013172</td>\n",
       "      <td>-0.006834</td>\n",
       "      <td>0.015299</td>\n",
       "      <td>1.000000</td>\n",
       "      <td>0.011794</td>\n",
       "    </tr>\n",
       "    <tr>\n",
       "      <th>weekday</th>\n",
       "      <td>-0.060405</td>\n",
       "      <td>0.005150</td>\n",
       "      <td>0.000994</td>\n",
       "      <td>0.013444</td>\n",
       "      <td>-0.002053</td>\n",
       "      <td>0.018555</td>\n",
       "      <td>-0.144188</td>\n",
       "      <td>0.790101</td>\n",
       "      <td>-0.001784</td>\n",
       "      <td>0.001266</td>\n",
       "      <td>0.011794</td>\n",
       "      <td>1.000000</td>\n",
       "    </tr>\n",
       "  </tbody>\n",
       "</table>\n",
       "</div>"
      ],
      "text/plain": [
       "                   cnt        t1        t2       hum  wind_speed  \\\n",
       "cnt           1.000000  0.384216  0.364773 -0.457498    0.115649   \n",
       "t1            0.384216  1.000000  0.988304 -0.439397    0.139719   \n",
       "t2            0.364773  0.988304  1.000000 -0.394916    0.083620   \n",
       "hum          -0.457498 -0.439397 -0.394916  1.000000   -0.284379   \n",
       "wind_speed    0.115649  0.139719  0.083620 -0.284379    1.000000   \n",
       "weather_code -0.163148 -0.095786 -0.097374  0.337402    0.132470   \n",
       "is_holiday   -0.047484 -0.042734 -0.039432  0.024447   -0.005586   \n",
       "is_weekend   -0.095288  0.000813 -0.002232  0.031429    0.007030   \n",
       "hour          0.323702  0.163153  0.148927 -0.294206    0.149300   \n",
       "month         0.068372  0.335800  0.372430  0.114620   -0.087449   \n",
       "day          -0.023115  0.009845  0.012717 -0.021074    0.007142   \n",
       "weekday      -0.060405  0.005150  0.000994  0.013444   -0.002053   \n",
       "\n",
       "              weather_code  is_holiday  is_weekend      hour     month  \\\n",
       "cnt              -0.163148   -0.047484   -0.095288  0.323702  0.068372   \n",
       "t1               -0.095786   -0.042734    0.000813  0.163153  0.335800   \n",
       "t2               -0.097374   -0.039432   -0.002232  0.148927  0.372430   \n",
       "hum               0.337402    0.024447    0.031429 -0.294206  0.114620   \n",
       "wind_speed        0.132470   -0.005586    0.007030  0.149300 -0.087449   \n",
       "weather_code      1.000000    0.004731    0.041136 -0.037803 -0.025500   \n",
       "is_holiday        0.004731    1.000000   -0.091683  0.004978 -0.001434   \n",
       "is_weekend        0.041136   -0.091683    1.000000 -0.007397 -0.007778   \n",
       "hour             -0.037803    0.004978   -0.007397  1.000000 -0.004498   \n",
       "month            -0.025500   -0.001434   -0.007778 -0.004498  1.000000   \n",
       "day              -0.004153    0.043926    0.013172 -0.006834  0.015299   \n",
       "weekday           0.018555   -0.144188    0.790101 -0.001784  0.001266   \n",
       "\n",
       "                   day   weekday  \n",
       "cnt          -0.023115 -0.060405  \n",
       "t1            0.009845  0.005150  \n",
       "t2            0.012717  0.000994  \n",
       "hum          -0.021074  0.013444  \n",
       "wind_speed    0.007142 -0.002053  \n",
       "weather_code -0.004153  0.018555  \n",
       "is_holiday    0.043926 -0.144188  \n",
       "is_weekend    0.013172  0.790101  \n",
       "hour         -0.006834 -0.001784  \n",
       "month         0.015299  0.001266  \n",
       "day           1.000000  0.011794  \n",
       "weekday       0.011794  1.000000  "
      ]
     },
     "execution_count": 17,
     "metadata": {},
     "output_type": "execute_result"
    }
   ],
   "source": [
    "df.corr()"
   ]
  },
  {
   "cell_type": "code",
   "execution_count": 18,
   "metadata": {
    "execution": {
     "iopub.execute_input": "2020-10-22T10:16:44.757149Z",
     "iopub.status.busy": "2020-10-22T10:16:44.756369Z",
     "iopub.status.idle": "2020-10-22T10:16:45.082081Z",
     "shell.execute_reply": "2020-10-22T10:16:45.081351Z"
    },
    "papermill": {
     "duration": 0.368072,
     "end_time": "2020-10-22T10:16:45.082202",
     "exception": false,
     "start_time": "2020-10-22T10:16:44.714130",
     "status": "completed"
    },
    "tags": []
   },
   "outputs": [
    {
     "data": {
      "text/plain": [
       "<matplotlib.axes._subplots.AxesSubplot at 0x7fcfdc04b250>"
      ]
     },
     "execution_count": 18,
     "metadata": {},
     "output_type": "execute_result"
    },
    {
     "data": {
      "image/png": "[encoded data removed]",
      "text/plain": [
       "<Figure size 432x288 with 2 Axes>"
      ]
     },
     "metadata": {
      "needs_background": "light"
     },
     "output_type": "display_data"
    }
   ],
   "source": [
    "sns.heatmap(df.corr())"
   ]
  },
  {
   "cell_type": "markdown",
   "metadata": {
    "papermill": {
     "duration": 0.038493,
     "end_time": "2020-10-22T10:16:45.159334",
     "exception": false,
     "start_time": "2020-10-22T10:16:45.120841",
     "status": "completed"
    },
    "tags": []
   },
   "source": [
    "Focusing on the t1, t2, humidity, and wind speed, since they are meaningful number in the data, humidity has the grestest coorelation with the number of shared bike, even though they are negative correlation. In addition, according to heatmap above, t1 and t2 are hightly correlated with each other. "
   ]
  },
  {
   "cell_type": "markdown",
   "metadata": {
    "papermill": {
     "duration": 0.038224,
     "end_time": "2020-10-22T10:16:45.236623",
     "exception": false,
     "start_time": "2020-10-22T10:16:45.198399",
     "status": "completed"
    },
    "tags": []
   },
   "source": [
    "# 3. Conclusion\n",
    "\n",
    "In a word, all these varibales have more or less correlation with the number of shared bikes. Humidity has the grestest negative coorelation with the number of shared bikes. Futhermore, regarding to the time and environment impact, people tend to use bikes in summer and sunny day."
   ]
  }
 ],
 "metadata": {
  "kernelspec": {
   "display_name": "Python 3",
   "language": "python",
   "name": "python3"
  },
  "language_info": {
   "codemirror_mode": {
    "name": "ipython",
    "version": 3
   },
   "file_extension": ".py",
   "mimetype": "text/x-python",
   "name": "python",
   "nbconvert_exporter": "python",
   "pygments_lexer": "ipython3",
   "version": "3.7.6"
  },
  "papermill": {
   "duration": 15.926749,
   "end_time": "2020-10-22T10:16:46.316461",
   "environment_variables": {},
   "exception": null,
   "input_path": "__notebook__.ipynb",
   "output_path": "__notebook__.ipynb",
   "parameters": {},
   "start_time": "2020-10-22T10:16:30.389712",
   "version": "2.1.0"
  }
 },
 "nbformat": 4,
 "nbformat_minor": 4
}
